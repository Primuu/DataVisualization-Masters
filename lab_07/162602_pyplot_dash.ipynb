{
 "cells": [
  {
   "cell_type": "markdown",
   "source": [
    "Data visualization - Plotly Exercises - ex.7 - Adam Trentowski, 162602"
   ],
   "metadata": {
    "collapsed": false
   },
   "id": "88977f049ab49d40"
  },
  {
   "cell_type": "code",
   "execution_count": 8,
   "id": "initial_id",
   "metadata": {
    "collapsed": true,
    "ExecuteTime": {
     "end_time": "2024-04-24T20:17:57.415896Z",
     "start_time": "2024-04-24T20:17:57.411894Z"
    }
   },
   "outputs": [],
   "source": [
    "import dash\n",
    "from dash import html\n",
    "from dash import dcc\n",
    "import plotly.express as px\n",
    "import plotly.graph_objs as go\n",
    "from dash.dependencies import Input, Output\n",
    "\n",
    "# import dash_bootstrap_components as dbc\n",
    "# import requests\n",
    "# import pandas as pd\n",
    "# import numpy as np\n",
    "# from dash.dependencies import Input,Output\n",
    "# import dash_table"
   ]
  },
  {
   "cell_type": "code",
   "outputs": [
    {
     "data": {
      "text/plain": "<IPython.lib.display.IFrame at 0x271aa448260>",
      "text/html": "\n        <iframe\n            width=\"100%\"\n            height=\"650\"\n            src=\"http://127.0.0.1:8050/\"\n            frameborder=\"0\"\n            allowfullscreen\n            \n        ></iframe>\n        "
     },
     "metadata": {},
     "output_type": "display_data"
    }
   ],
   "source": [
    "app = dash.Dash()\n",
    "\n",
    "df = px.data.stocks()\n",
    "\n",
    "\n",
    "def stock_prices():\n",
    "    \"\"\"function for creating line chart showing Google stock prices over time\"\"\"\n",
    "    fig = go.Figure([go.Scatter(x=df['date'], y=df['GOOG'], line=dict(color='firebrick', width=4), name='Google')])\n",
    "    fig.update_layout(title='Prices over time', xaxis_title='Dates', yaxis_title='Prices')\n",
    "    return fig\n",
    "\n",
    "\n",
    "app.layout = html.Div(\n",
    "    id='parent', \n",
    "    children=[\n",
    "              html.H1(\n",
    "                  id='H1', \n",
    "                  children='Styling using html components', \n",
    "                  style={\n",
    "                          'textAlign': 'center',\n",
    "                          'marginTop': 40,\n",
    "                          'marginBottom': 40\n",
    "                        }),\n",
    "              dcc.Dropdown(\n",
    "                  id='dropdown',\n",
    "                  options=[\n",
    "                             {'label':'Google', 'value':'GOOG' },\n",
    "                             {'label': 'Apple', 'value':'AAPL'},\n",
    "                             {'label': 'Amazon', 'value':'AMZN'},\n",
    "                            ],\n",
    "                  value='GOOG'),\n",
    "              dcc.Graph(id='line_plot', figure=stock_prices())\n",
    "    ]\n",
    ")\n",
    "\n",
    "\n",
    "@app.callback(Output(component_id='line_plot', component_property='figure'),\n",
    "              [Input(component_id='dropdown', component_property='value')])\n",
    "def graph_update(dropdown_value):\n",
    "    print(dropdown_value)\n",
    "    fig = go.Figure([go.Scatter(x=df['date'], y=df['{}'.format(dropdown_value)], line=dict(color='firebrick', width = 4))])\n",
    "    fig.update_layout(title='Stock prices over time', xaxis_title='Dates', yaxis_title='Prices')\n",
    "    return fig  \n",
    "\n",
    "\n",
    "if __name__ == '__main__': \n",
    "    app.run_server()"
   ],
   "metadata": {
    "collapsed": false,
    "ExecuteTime": {
     "end_time": "2024-04-24T20:17:57.662658Z",
     "start_time": "2024-04-24T20:17:57.445336Z"
    }
   },
   "id": "730bd86e12b4e2d2",
   "execution_count": 9
  },
  {
   "cell_type": "markdown",
   "source": [
    "### http://127.0.0.1:8050/"
   ],
   "metadata": {
    "collapsed": false
   },
   "id": "d7229dd0c79d9505"
  }
 ],
 "metadata": {
  "kernelspec": {
   "display_name": "Python 3",
   "language": "python",
   "name": "python3"
  },
  "language_info": {
   "codemirror_mode": {
    "name": "ipython",
    "version": 2
   },
   "file_extension": ".py",
   "mimetype": "text/x-python",
   "name": "python",
   "nbconvert_exporter": "python",
   "pygments_lexer": "ipython2",
   "version": "2.7.6"
  }
 },
 "nbformat": 4,
 "nbformat_minor": 5
}
