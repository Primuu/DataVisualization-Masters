{
 "cells": [
  {
   "cell_type": "markdown",
   "source": [
    "Data visualization - D3Blocks Exercises - ex.9 - Adam Trentowski, 162602"
   ],
   "metadata": {
    "collapsed": false
   },
   "id": "139f3ef80fe12653"
  },
  {
   "cell_type": "code",
   "execution_count": 1,
   "id": "initial_id",
   "metadata": {
    "collapsed": true,
    "ExecuteTime": {
     "end_time": "2024-05-15T13:47:59.817371Z",
     "start_time": "2024-05-15T13:47:58.275816Z"
    }
   },
   "outputs": [],
   "source": [
    "from d3blocks import D3Blocks"
   ]
  },
  {
   "cell_type": "code",
   "outputs": [
    {
     "name": "stderr",
     "output_type": "stream",
     "text": [
      "[d3blocks] >INFO> Cleaning edge_properties and config parameters..\n",
      "[d3blocks] >INFO> Import dataset [energy]\n"
     ]
    },
    {
     "name": "stdout",
     "output_type": "stream",
     "text": [
      "                     source            target   weight\n",
      "0      Agricultural 'waste'    Bio-conversion  124.729\n",
      "1            Bio-conversion            Liquid    0.597\n",
      "2            Bio-conversion            Losses   26.862\n",
      "3            Bio-conversion             Solid  280.322\n",
      "4            Bio-conversion               Gas   81.144\n",
      "..                      ...               ...      ...\n",
      "63       Thermal generation  District heating   79.329\n",
      "64                    Tidal  Electricity grid    9.452\n",
      "65  UK land based bioenergy    Bio-conversion  182.010\n",
      "66                     Wave  Electricity grid   19.013\n",
      "67                     Wind  Electricity grid  289.366\n",
      "\n",
      "[68 rows x 3 columns]\n"
     ]
    }
   ],
   "source": [
    "d3 = D3Blocks()\n",
    "\n",
    "df = d3.import_example('energy')\n",
    "print(df)"
   ],
   "metadata": {
    "collapsed": false,
    "ExecuteTime": {
     "end_time": "2024-05-15T14:18:21.922026Z",
     "start_time": "2024-05-15T14:18:21.908715Z"
    }
   },
   "id": "69e5f60f593a7a47",
   "execution_count": 34
  },
  {
   "cell_type": "markdown",
   "source": [
    "## Network Graph"
   ],
   "metadata": {
    "collapsed": false
   },
   "id": "202be710ab6883fa"
  },
  {
   "cell_type": "code",
   "outputs": [
    {
     "name": "stderr",
     "output_type": "stream",
     "text": [
      "[d3blocks] >INFO> Converting source-target into adjacency matrix..\n",
      "[d3blocks] >INFO> Making the matrix symmetric..\n",
      "[d3blocks] >INFO> Set directed=True to see the markers!\n",
      "[d3blocks] >INFO> Keep only edges with weight>0\n",
      "[d3blocks] >INFO> Converting source-target into adjacency matrix..\n",
      "[d3blocks] >INFO> Making the matrix symmetric..\n",
      "[d3blocks] >INFO> Converting adjacency matrix into source-target..\n",
      "[d3blocks] >INFO> Number of unique nodes: 48\n",
      "[d3blocks] >INFO> Slider range is set to [0, 840]\n",
      "[d3blocks] >INFO> Write to path: [C:\\Users\\Adam\\AppData\\Local\\Temp\\tmpmv5a3yk0\\d3graph.html]\n",
      "[d3blocks] >INFO> File already exists and will be overwritten: [C:\\Users\\Adam\\AppData\\Local\\Temp\\tmpmv5a3yk0\\d3graph.html]\n",
      "[d3blocks] >INFO> Converting adjacency matrix into source-target..\n",
      "[d3blocks] >INFO> Number of unique nodes: 48\n",
      "[d3blocks] >INFO> Slider range is set to [0, 840]\n",
      "[d3blocks] >INFO> Write to path: [C:\\Users\\Adam\\AppData\\Local\\Temp\\tmp0_c8t7im\\d3graph.html]\n",
      "[d3blocks] >INFO> File already exists and will be overwritten: [C:\\Users\\Adam\\AppData\\Local\\Temp\\tmp0_c8t7im\\d3graph.html]\n"
     ]
    }
   ],
   "source": [
    "# Initialize Network chart but do not yet show the chart.\n",
    "d3.d3graph(df, showfig=False)\n",
    "\n",
    "# Color node on clustering\n",
    "d3.D3graph.set_node_properties(color='cluster')\n",
    "\n",
    "# Make adjustments to the node: Thermal_generation\n",
    "d3.D3graph.node_properties['Thermal_generation']['size'] = 30\n",
    "d3.D3graph.node_properties['Thermal_generation']['edge_color'] = '#ff4500'\n",
    "d3.D3graph.node_properties['Thermal_generation']['edge_size'] = 5\n",
    "\n",
    "# Make adjustments to the edge: 'Solar', 'Solar_Thermal'\n",
    "d3.D3graph.edge_properties['Solar', 'Solar_Thermal']['color'] = '#32cd32'\n",
    "d3.D3graph.edge_properties['Solar', 'Solar_Thermal']['weight_scaled'] = 15\n",
    "\n",
    "# Show the network graph\n",
    "d3.D3graph.show()"
   ],
   "metadata": {
    "collapsed": false,
    "ExecuteTime": {
     "end_time": "2024-05-15T14:19:54.018423Z",
     "start_time": "2024-05-15T14:19:53.121585Z"
    }
   },
   "id": "32bf917519eefd6a",
   "execution_count": 40
  },
  {
   "cell_type": "markdown",
   "source": [
    "## Sankey Chart"
   ],
   "metadata": {
    "collapsed": false
   },
   "id": "66ef7cac4d0d27ac"
  },
  {
   "cell_type": "code",
   "outputs": [
    {
     "name": "stderr",
     "output_type": "stream",
     "text": [
      "[d3blocks] >INFO> Cleaning edge_properties and config parameters..\n",
      "[d3blocks] >INFO> Initializing [Sankey]\n",
      "[d3blocks] >INFO> filepath is set to [C:\\Users\\Adam\\AppData\\Local\\Temp\\d3blocks\\sankey.html]\n",
      "[d3blocks] >INFO> Convert to DataFrame.\n",
      "[d3blocks] >INFO> Node properties are set.\n",
      "[d3blocks] >INFO> Edge properties are set.\n",
      "D:\\Projekty\\DataVisualization\\.venv\\Lib\\site-packages\\d3blocks\\sankey\\Sankey.py:189: FutureWarning: Series.__getitem__ treating keys as positions is deprecated. In a future version, integer keys will always be treated as labels (consistent with DataFrame behavior). To access a value by position, use `ser.iloc[pos]`\n",
      "  config['fontsize'] = kwargs['node_properties']['fontsize'][0]\n",
      "[d3blocks] >INFO> File already exists and will be overwritten: [C:\\Users\\Adam\\AppData\\Local\\Temp\\d3blocks\\sankey.html]\n",
      "[d3blocks] >INFO> Open browser: C:\\Users\\Adam\\AppData\\Local\\Temp\\d3blocks\\sankey.html\n"
     ]
    }
   ],
   "source": [
    "d3.sankey(df,\n",
    "          link={'color': 'source-target', 'width': 20},\n",
    "          node={'color': 'property',\n",
    "                'width': 50,\n",
    "                'padding': 10}\n",
    "          )  "
   ],
   "metadata": {
    "collapsed": false,
    "ExecuteTime": {
     "end_time": "2024-05-15T15:33:01.618208Z",
     "start_time": "2024-05-15T15:33:00.787659Z"
    }
   },
   "id": "5ee6fa0fe462ba2",
   "execution_count": 44
  },
  {
   "cell_type": "markdown",
   "source": [
    "## Chord Graph"
   ],
   "metadata": {
    "collapsed": false
   },
   "id": "da4dd1d07f72b7b2"
  },
  {
   "cell_type": "code",
   "outputs": [
    {
     "name": "stderr",
     "output_type": "stream",
     "text": [
      "[d3blocks] >INFO> Cleaning edge_properties and config parameters..\n",
      "[d3blocks] >INFO> Initializing [Chord]\n",
      "[d3blocks] >INFO> filepath is set to [C:\\Users\\Adam\\AppData\\Local\\Temp\\d3blocks\\chord_demo.html]\n",
      "[d3blocks] >INFO> Convert to DataFrame.\n",
      "[d3blocks] >INFO> Node properties are set.\n",
      "[d3blocks] >INFO> Set edge-opacity to [0.3].\n",
      "[d3blocks] >INFO> Set edge-colors based on the [source] node-color.\n",
      "[d3blocks] >INFO> Edge properties are set.\n",
      "[d3blocks] >INFO> File already exists and will be overwritten: [C:\\Users\\Adam\\AppData\\Local\\Temp\\d3blocks\\chord_demo.html]\n",
      "[d3blocks] >INFO> Open browser: C:\\Users\\Adam\\AppData\\Local\\Temp\\d3blocks\\chord_demo.html\n"
     ]
    }
   ],
   "source": [
    "d3.chord(df,\n",
    "         filepath='chord_demo.html',\n",
    "         opacity=0.3,\n",
    "         ordering='descending',\n",
    "         fontsize=15,\n",
    "         )"
   ],
   "metadata": {
    "collapsed": false,
    "ExecuteTime": {
     "end_time": "2024-05-15T15:38:52.527071Z",
     "start_time": "2024-05-15T15:38:51.657Z"
    }
   },
   "id": "52f7d4e06afa8ba1",
   "execution_count": 60
  },
  {
   "cell_type": "markdown",
   "source": [
    "## Timeseries chart"
   ],
   "metadata": {
    "collapsed": false
   },
   "id": "2f585e0e317a33fa"
  },
  {
   "cell_type": "code",
   "outputs": [
    {
     "name": "stderr",
     "output_type": "stream",
     "text": [
      "[d3blocks] >INFO> Extracting files..\n",
      "[d3blocks] >INFO> Import dataset: [climate]\n",
      "[d3blocks] >INFO> Initializing [Timeseries]\n",
      "[d3blocks] >INFO> filepath is set to [C:\\Users\\Adam\\AppData\\Local\\Temp\\d3blocks\\timeseries.html]\n",
      "[d3blocks] >INFO> Convert to DataFrame.\n",
      "[d3blocks] >INFO> Node properties are set.\n",
      "[d3blocks] >INFO> Edge properties are set.\n",
      "[d3blocks] >INFO> File already exists and will be overwritten: [C:\\Users\\Adam\\AppData\\Local\\Temp\\d3blocks\\timeseries.html]\n",
      "[d3blocks] >INFO> Open browser: C:\\Users\\Adam\\AppData\\Local\\Temp\\d3blocks\\timeseries.html\n"
     ]
    }
   ],
   "source": [
    "df = d3.import_example('climate')\n",
    "df.head()\n",
    "d3.timeseries(df, \n",
    "              datetime='date', \n",
    "              dt_format='%Y-%m-%d', \n",
    "              fontsize=10, \n",
    "              cmap='Set2',\n",
    "              title='Timeseries - D3blocks',\n",
    "              save_button=False\n",
    "              )"
   ],
   "metadata": {
    "collapsed": false,
    "ExecuteTime": {
     "end_time": "2024-05-15T15:41:50.858355Z",
     "start_time": "2024-05-15T15:41:49.905395Z"
    }
   },
   "id": "6bf92de01b22df81",
   "execution_count": 62
  },
  {
   "cell_type": "markdown",
   "source": [
    "## Moving bubbles chart"
   ],
   "metadata": {
    "collapsed": false
   },
   "id": "dd08a3a32286f7b0"
  },
  {
   "cell_type": "code",
   "outputs": [
    {
     "name": "stderr",
     "output_type": "stream",
     "text": [
      "D:\\Projekty\\DataVisualization\\.venv\\Lib\\site-packages\\d3blocks\\movingbubbles\\Movingbubbles.py:550: FutureWarning: ChainedAssignmentError: behaviour will change in pandas 3.0!\n",
      "You are setting values through chained assignment. Currently this works in certain cases, but when using Copy-on-Write (which will become the default behaviour in pandas 3.0) this will never work to update the original DataFrame or Series, because the intermediate object on which we are setting values will behave as a copy.\n",
      "A typical example is when you are setting values in a column of a DataFrame, like:\n",
      "\n",
      "df[\"col\"][row_indexer] = value\n",
      "\n",
      "Use `df.loc[row_indexer, \"col\"] = values` instead, to perform the assignment in a single step and ensure this keeps updating the original `df`.\n",
      "\n",
      "See the caveats in the documentation: https://pandas.pydata.org/pandas-docs/stable/user_guide/indexing.html#returning-a-view-versus-a-copy\n",
      "\n",
      "  df['sample_id'].iloc[i] = sample_id\n",
      "D:\\Projekty\\DataVisualization\\.venv\\Lib\\site-packages\\d3blocks\\movingbubbles\\Movingbubbles.py:554: FutureWarning: ChainedAssignmentError: behaviour will change in pandas 3.0!\n",
      "You are setting values through chained assignment. Currently this works in certain cases, but when using Copy-on-Write (which will become the default behaviour in pandas 3.0) this will never work to update the original DataFrame or Series, because the intermediate object on which we are setting values will behave as a copy.\n",
      "A typical example is when you are setting values in a column of a DataFrame, like:\n",
      "\n",
      "df[\"col\"][row_indexer] = value\n",
      "\n",
      "Use `df.loc[row_indexer, \"col\"] = values` instead, to perform the assignment in a single step and ensure this keeps updating the original `df`.\n",
      "\n",
      "See the caveats in the documentation: https://pandas.pydata.org/pandas-docs/stable/user_guide/indexing.html#returning-a-view-versus-a-copy\n",
      "\n",
      "  df['state'].iloc[i] = location_types[idx]\n",
      "D:\\Projekty\\DataVisualization\\.venv\\Lib\\site-packages\\d3blocks\\movingbubbles\\Movingbubbles.py:555: FutureWarning: ChainedAssignmentError: behaviour will change in pandas 3.0!\n",
      "You are setting values through chained assignment. Currently this works in certain cases, but when using Copy-on-Write (which will become the default behaviour in pandas 3.0) this will never work to update the original DataFrame or Series, because the intermediate object on which we are setting values will behave as a copy.\n",
      "A typical example is when you are setting values in a column of a DataFrame, like:\n",
      "\n",
      "df[\"col\"][row_indexer] = value\n",
      "\n",
      "Use `df.loc[row_indexer, \"col\"] = values` instead, to perform the assignment in a single step and ensure this keeps updating the original `df`.\n",
      "\n",
      "See the caveats in the documentation: https://pandas.pydata.org/pandas-docs/stable/user_guide/indexing.html#returning-a-view-versus-a-copy\n",
      "\n",
      "  df['datetime'].iloc[i] = random_date(date_start, date_stop, random.random(), dt_format=dt_format)\n",
      "D:\\Projekty\\DataVisualization\\.venv\\Lib\\site-packages\\d3blocks\\movingbubbles\\Movingbubbles.py:559: FutureWarning: ChainedAssignmentError: behaviour will change in pandas 3.0!\n",
      "You are setting values through chained assignment. Currently this works in certain cases, but when using Copy-on-Write (which will become the default behaviour in pandas 3.0) this will never work to update the original DataFrame or Series, because the intermediate object on which we are setting values will behave as a copy.\n",
      "A typical example is when you are setting values in a column of a DataFrame, like:\n",
      "\n",
      "df[\"col\"][row_indexer] = value\n",
      "\n",
      "Use `df.loc[row_indexer, \"col\"] = values` instead, to perform the assignment in a single step and ensure this keeps updating the original `df`.\n",
      "\n",
      "See the caveats in the documentation: https://pandas.pydata.org/pandas-docs/stable/user_guide/indexing.html#returning-a-view-versus-a-copy\n",
      "\n",
      "  df['sample_id'].iloc[i] = sample_id\n",
      "D:\\Projekty\\DataVisualization\\.venv\\Lib\\site-packages\\d3blocks\\movingbubbles\\Movingbubbles.py:560: FutureWarning: ChainedAssignmentError: behaviour will change in pandas 3.0!\n",
      "You are setting values through chained assignment. Currently this works in certain cases, but when using Copy-on-Write (which will become the default behaviour in pandas 3.0) this will never work to update the original DataFrame or Series, because the intermediate object on which we are setting values will behave as a copy.\n",
      "A typical example is when you are setting values in a column of a DataFrame, like:\n",
      "\n",
      "df[\"col\"][row_indexer] = value\n",
      "\n",
      "Use `df.loc[row_indexer, \"col\"] = values` instead, to perform the assignment in a single step and ensure this keeps updating the original `df`.\n",
      "\n",
      "See the caveats in the documentation: https://pandas.pydata.org/pandas-docs/stable/user_guide/indexing.html#returning-a-view-versus-a-copy\n",
      "\n",
      "  df['state'].iloc[i] = location_types[idx_middle]\n",
      "D:\\Projekty\\DataVisualization\\.venv\\Lib\\site-packages\\d3blocks\\movingbubbles\\Movingbubbles.py:561: FutureWarning: ChainedAssignmentError: behaviour will change in pandas 3.0!\n",
      "You are setting values through chained assignment. Currently this works in certain cases, but when using Copy-on-Write (which will become the default behaviour in pandas 3.0) this will never work to update the original DataFrame or Series, because the intermediate object on which we are setting values will behave as a copy.\n",
      "A typical example is when you are setting values in a column of a DataFrame, like:\n",
      "\n",
      "df[\"col\"][row_indexer] = value\n",
      "\n",
      "Use `df.loc[row_indexer, \"col\"] = values` instead, to perform the assignment in a single step and ensure this keeps updating the original `df`.\n",
      "\n",
      "See the caveats in the documentation: https://pandas.pydata.org/pandas-docs/stable/user_guide/indexing.html#returning-a-view-versus-a-copy\n",
      "\n",
      "  df['datetime'].iloc[i] = random_date(df['datetime'].iloc[i-1], date_stop, random.random(), dt_format=dt_format)\n",
      "D:\\Projekty\\DataVisualization\\.venv\\Lib\\site-packages\\d3blocks\\movingbubbles\\Movingbubbles.py:566: FutureWarning: ChainedAssignmentError: behaviour will change in pandas 3.0!\n",
      "You are setting values through chained assignment. Currently this works in certain cases, but when using Copy-on-Write (which will become the default behaviour in pandas 3.0) this will never work to update the original DataFrame or Series, because the intermediate object on which we are setting values will behave as a copy.\n",
      "A typical example is when you are setting values in a column of a DataFrame, like:\n",
      "\n",
      "df[\"col\"][row_indexer] = value\n",
      "\n",
      "Use `df.loc[row_indexer, \"col\"] = values` instead, to perform the assignment in a single step and ensure this keeps updating the original `df`.\n",
      "\n",
      "See the caveats in the documentation: https://pandas.pydata.org/pandas-docs/stable/user_guide/indexing.html#returning-a-view-versus-a-copy\n",
      "\n",
      "  df['sample_id'].iloc[i] = sample_id\n",
      "D:\\Projekty\\DataVisualization\\.venv\\Lib\\site-packages\\d3blocks\\movingbubbles\\Movingbubbles.py:571: FutureWarning: ChainedAssignmentError: behaviour will change in pandas 3.0!\n",
      "You are setting values through chained assignment. Currently this works in certain cases, but when using Copy-on-Write (which will become the default behaviour in pandas 3.0) this will never work to update the original DataFrame or Series, because the intermediate object on which we are setting values will behave as a copy.\n",
      "A typical example is when you are setting values in a column of a DataFrame, like:\n",
      "\n",
      "df[\"col\"][row_indexer] = value\n",
      "\n",
      "Use `df.loc[row_indexer, \"col\"] = values` instead, to perform the assignment in a single step and ensure this keeps updating the original `df`.\n",
      "\n",
      "See the caveats in the documentation: https://pandas.pydata.org/pandas-docs/stable/user_guide/indexing.html#returning-a-view-versus-a-copy\n",
      "\n",
      "  df['state'].iloc[i] = location_types[idx]\n",
      "D:\\Projekty\\DataVisualization\\.venv\\Lib\\site-packages\\d3blocks\\movingbubbles\\Movingbubbles.py:572: FutureWarning: ChainedAssignmentError: behaviour will change in pandas 3.0!\n",
      "You are setting values through chained assignment. Currently this works in certain cases, but when using Copy-on-Write (which will become the default behaviour in pandas 3.0) this will never work to update the original DataFrame or Series, because the intermediate object on which we are setting values will behave as a copy.\n",
      "A typical example is when you are setting values in a column of a DataFrame, like:\n",
      "\n",
      "df[\"col\"][row_indexer] = value\n",
      "\n",
      "Use `df.loc[row_indexer, \"col\"] = values` instead, to perform the assignment in a single step and ensure this keeps updating the original `df`.\n",
      "\n",
      "See the caveats in the documentation: https://pandas.pydata.org/pandas-docs/stable/user_guide/indexing.html#returning-a-view-versus-a-copy\n",
      "\n",
      "  df['datetime'].iloc[i] = random_date(df['datetime'].iloc[i-1], date_stop, random.random(), dt_format=dt_format)\n",
      "D:\\Projekty\\DataVisualization\\.venv\\Lib\\site-packages\\d3blocks\\movingbubbles\\Movingbubbles.py:584: UserWarning: Parsing dates in %d-%m-%Y %H:%M:%S format when dayfirst=False (the default) was specified. Pass `dayfirst=True` or specify a format to silence this warning.\n",
      "  df['datetime'] = pd.to_datetime(df['datetime'])\n",
      "[d3blocks] >INFO> Cleaning edge_properties and config parameters..\n",
      "[d3blocks] >INFO> Initializing [Movingbubbles]\n",
      "[d3blocks] >INFO> filepath is set to [C:\\Users\\Adam\\AppData\\Local\\Temp\\d3blocks\\movingbubbles.html]\n",
      "[d3blocks] >INFO> Convert to DataFrame.\n",
      "[d3blocks] >INFO> Node properties are set.\n",
      "[d3blocks] >INFO> Standardizing input dataframe using method: [None].\n",
      "[d3blocks] >INFO> Set all nodes to size: 5\n",
      "[d3blocks] >WARNING> Colormap [Set1] can not create [242] unique colors! Available unique colors: [9].\n",
      "[d3blocks] >INFO> Edge properties are set.\n",
      "[d3blocks] >INFO> File already exists and will be overwritten: [C:\\Users\\Adam\\AppData\\Local\\Temp\\d3blocks\\movingbubbles.html]\n",
      "[d3blocks] >INFO> Open browser: C:\\Users\\Adam\\AppData\\Local\\Temp\\d3blocks\\movingbubbles.html\n"
     ]
    }
   ],
   "source": [
    "df = d3.import_example(\"random_time\", n=1000, c=500, date_start='1-1-2000 00:10:05', date_stop='1-1-2001 23:59:59')\n",
    "df.head()\n",
    "\n",
    "d3.movingbubbles(df,\n",
    "                 datetime='datetime',\n",
    "                 state='state',\n",
    "                 sample_id='sample_id',\n",
    "                 standardize=None,\n",
    "                 speed={'slow': 2000, 'medium': 400, 'fast': 100},\n",
    "                 cmap='Set3',\n",
    "                 filepath='movingbubbles.html',\n",
    "                 damper=0.5,\n",
    "                 )"
   ],
   "metadata": {
    "collapsed": false,
    "ExecuteTime": {
     "end_time": "2024-05-15T15:44:28.879125Z",
     "start_time": "2024-05-15T15:44:26.607524Z"
    }
   },
   "id": "46193404e49b3a44",
   "execution_count": 70
  },
  {
   "cell_type": "markdown",
   "source": [
    "## Image Slider"
   ],
   "metadata": {
    "collapsed": false
   },
   "id": "9240cafee174b183"
  },
  {
   "cell_type": "code",
   "outputs": [
    {
     "name": "stderr",
     "output_type": "stream",
     "text": [
      "[d3blocks] >INFO> filepath is set to [C:\\Users\\Adam\\AppData\\Local\\Temp\\d3blocks\\imageslider.html]\n",
      "[d3blocks] >INFO> img_before: https://erdogant.github.io/datasets/images/southern_nebula_before.jpg\n",
      "[d3blocks] >INFO> img_after: https://erdogant.github.io/datasets/images/southern_nebula_after.jpg\n",
      "[d3blocks] >INFO> File already exists and will be overwritten: [C:\\Users\\Adam\\AppData\\Local\\Temp\\d3blocks\\imageslider.html]\n",
      "[d3blocks] >INFO> Open browser: C:\\Users\\Adam\\AppData\\Local\\Temp\\d3blocks\\imageslider.html\n"
     ]
    }
   ],
   "source": [
    "img_before, img_after = d3.import_example('southern_nebula_internet')\n",
    "d3.imageslider(img_before, img_after)"
   ],
   "metadata": {
    "collapsed": false,
    "ExecuteTime": {
     "end_time": "2024-05-15T15:46:17.729185Z",
     "start_time": "2024-05-15T15:46:16.875728Z"
    }
   },
   "id": "60c3c211b091a847",
   "execution_count": 73
  },
  {
   "cell_type": "markdown",
   "source": [
    "## Scatter Plot"
   ],
   "metadata": {
    "collapsed": false
   },
   "id": "287b1e93bd8e3af7"
  },
  {
   "cell_type": "code",
   "outputs": [
    {
     "name": "stderr",
     "output_type": "stream",
     "text": [
      "[d3blocks] >INFO> Import dataset [cancer]\n",
      "[d3blocks] >INFO> Cleaning edge_properties and config parameters..\n",
      "[d3blocks] >INFO> Initializing [Scatter]\n",
      "[d3blocks] >INFO> filepath is set to [c:\\temp\\scatter_demo.html]\n",
      "[d3blocks] >INFO> Scaling xy-coordinates.\n",
      "[d3blocks] >INFO> [12] sizes are <0 and set to 0.\n",
      "[d3blocks] >INFO> Set opacity based on the data density.\n",
      "[d3blocks] >INFO> Edge properties are set.\n",
      "[d3blocks] >INFO> File already exists and will be overwritten: [c:\\temp\\scatter_demo.html]\n",
      "[d3blocks] >INFO> Open browser: c:\\temp\\scatter_demo.html\n"
     ]
    }
   ],
   "source": [
    "df = d3.import_example('cancer')\n",
    "df.head()\n",
    "\n",
    "tooltip = df['labx'].values + ' <br /> Survival: ' + df['survival_months'].astype(str).str[0:4].values\n",
    "\n",
    "size = df['survival_months'].fillna(1).values / 10\n",
    "\n",
    "d3.scatter(df['tsneX'].values,\n",
    "           df['tsneY'].values,\n",
    "           x1=df['PC1'].values,\n",
    "           y1=df['PC2'].values,\n",
    "           scale=True,\n",
    "           label_radio=['tSNE', 'PCA'],\n",
    "           size=size,\n",
    "           color = df['labx'].values,\n",
    "           stroke='#000000',\n",
    "           opacity=0.4,\n",
    "           tooltip=tooltip,\n",
    "           cmap='Spectral',\n",
    "           filepath='c://temp//scatter_demo.html',\n",
    "           color_background='#EFE4B0'\n",
    "           )"
   ],
   "metadata": {
    "collapsed": false,
    "ExecuteTime": {
     "end_time": "2024-05-15T15:48:54.925233Z",
     "start_time": "2024-05-15T15:48:53.568260Z"
    }
   },
   "id": "fe62d27f809ed8eb",
   "execution_count": 80
  },
  {
   "cell_type": "markdown",
   "source": [
    "## Violin Chart"
   ],
   "metadata": {
    "collapsed": false
   },
   "id": "1fa99c1057efc12c"
  },
  {
   "cell_type": "code",
   "outputs": [
    {
     "name": "stderr",
     "output_type": "stream",
     "text": [
      "[d3blocks] >INFO> Cleaning edge_properties and config parameters..\n",
      "[d3blocks] >INFO> Initializing [Violin]\n",
      "[d3blocks] >INFO> filepath is set to [C:\\Users\\Adam\\AppData\\Local\\Temp\\d3blocks\\violine_demo.html]\n",
      "[d3blocks] >INFO> Removing [564] NaN values.\n",
      "[d3blocks] >INFO> Filter on: [acc|kich|brca|lgg|blca|coad|ov]\n",
      "[d3blocks] >INFO> Number of samples: 1881\n",
      "[d3blocks] >INFO> File already exists and will be overwritten: [C:\\Users\\Adam\\AppData\\Local\\Temp\\d3blocks\\violine_demo.html]\n",
      "[d3blocks] >INFO> Open browser: C:\\Users\\Adam\\AppData\\Local\\Temp\\d3blocks\\violine_demo.html\n"
     ]
    }
   ],
   "source": [
    "d3.violin(x=df['labx'].values,\n",
    "          y=df['age'].values,\n",
    "          tooltip=tooltip,\n",
    "          bins=60,\n",
    "          size=df['survival_months'].values / 10,\n",
    "          x_order=['acc', 'kich', 'brca', 'lgg', 'blca', 'coad', 'ov'],\n",
    "          figsize=[None, None],\n",
    "          filepath='violine_demo.html',\n",
    "          title='Violin Chart',\n",
    "          opacity=0.6,\n",
    "          stroke='#001230',\n",
    "          color='black'\n",
    "           )"
   ],
   "metadata": {
    "collapsed": false,
    "ExecuteTime": {
     "end_time": "2024-05-15T15:50:51.288195Z",
     "start_time": "2024-05-15T15:50:50.333327Z"
    }
   },
   "id": "a07a5f684c804ef1",
   "execution_count": 84
  },
  {
   "cell_type": "markdown",
   "source": [
    "## Particles"
   ],
   "metadata": {
    "collapsed": false
   },
   "id": "86741a9e9bb00e75"
  },
  {
   "cell_type": "code",
   "outputs": [
    {
     "name": "stderr",
     "output_type": "stream",
     "text": [
      "[d3blocks] >INFO> filepath is set to [C:\\Users\\Adam\\AppData\\Local\\Temp\\d3blocks\\particles.html]\n",
      "[d3blocks] >INFO> File already exists and will be overwritten: [C:\\Users\\Adam\\AppData\\Local\\Temp\\d3blocks\\particles.html]\n",
      "[d3blocks] >INFO> Open browser: C:\\Users\\Adam\\AppData\\Local\\Temp\\d3blocks\\particles.html\n"
     ]
    }
   ],
   "source": [
    "d3.particles('Adam T.', collision=0.1, spacing=15, figsize=[1400, 800])"
   ],
   "metadata": {
    "collapsed": false,
    "ExecuteTime": {
     "end_time": "2024-05-15T15:51:23.780881Z",
     "start_time": "2024-05-15T15:51:22.938441Z"
    }
   },
   "id": "2ae450ee3fbe4040",
   "execution_count": 86
  }
 ],
 "metadata": {
  "kernelspec": {
   "display_name": "Python 3",
   "language": "python",
   "name": "python3"
  },
  "language_info": {
   "codemirror_mode": {
    "name": "ipython",
    "version": 2
   },
   "file_extension": ".py",
   "mimetype": "text/x-python",
   "name": "python",
   "nbconvert_exporter": "python",
   "pygments_lexer": "ipython2",
   "version": "2.7.6"
  }
 },
 "nbformat": 4,
 "nbformat_minor": 5
}
